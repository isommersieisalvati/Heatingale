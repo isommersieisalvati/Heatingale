{
 "cells": [
  {
   "cell_type": "code",
   "execution_count": null,
   "metadata": {},
   "outputs": [
    {
     "name": "stdout",
     "output_type": "stream",
     "text": [
      "JSON file updated successfully!\n"
     ]
    }
   ],
   "source": [
    "import json\n",
    "\n",
    "def replace_blank_strings_with_zero(obj):\n",
    "    if isinstance(obj, dict):\n",
    "        for key, value in obj.items():\n",
    "            if isinstance(value, dict):\n",
    "                replace_blank_strings_with_zero(value)  # Recurse into nested dictionaries\n",
    "            elif isinstance(value, list):\n",
    "                for i in range(len(value)):\n",
    "                    replace_blank_strings_with_zero(value[i])  # Recurse into lists\n",
    "            elif value == '':\n",
    "                obj[key] = 0  # Replace blank string with 0\n",
    "    elif isinstance(obj, list):\n",
    "        for i in range(len(obj)):\n",
    "            replace_blank_strings_with_zero(obj[i])  # Recurse into list elements\n",
    "\n",
    "    return obj\n",
    "\n",
    "\n",
    "# Load the JSON file\n",
    "with open(\"./election_result.json\", \"r\", encoding=\"utf-8\") as file:\n",
    "    data = json.load(file)\n",
    "\n",
    "data = replace_blank_strings_with_zero(data)\n",
    "\n",
    "# Save the updated JSON back to the file\n",
    "with open(\"data.json\", \"w\", encoding=\"utf-8\") as file:\n",
    "    json.dump(data, file, indent=4)\n",
    "\n",
    "print(\"JSON file updated successfully!\")"
   ]
  }
 ],
 "metadata": {
  "kernelspec": {
   "display_name": "conda",
   "language": "python",
   "name": "python3"
  },
  "language_info": {
   "codemirror_mode": {
    "name": "ipython",
    "version": 3
   },
   "file_extension": ".py",
   "mimetype": "text/x-python",
   "name": "python",
   "nbconvert_exporter": "python",
   "pygments_lexer": "ipython3",
   "version": "3.12.7"
  }
 },
 "nbformat": 4,
 "nbformat_minor": 2
}
